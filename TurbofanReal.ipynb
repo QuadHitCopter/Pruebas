{
  "nbformat": 4,
  "nbformat_minor": 0,
  "metadata": {
    "colab": {
      "name": "Untitled0.ipynb",
      "provenance": [],
      "authorship_tag": "ABX9TyPR8B3KVFrepUEm/JIB8Sck",
      "include_colab_link": true
    },
    "kernelspec": {
      "name": "python3",
      "display_name": "Python 3"
    },
    "language_info": {
      "name": "python"
    }
  },
  "cells": [
    {
      "cell_type": "markdown",
      "metadata": {
        "id": "view-in-github",
        "colab_type": "text"
      },
      "source": [
        "<a href=\"https://colab.research.google.com/github/QuadHitCopter/Pruebas/blob/main/TurbofanReal.ipynb\" target=\"_parent\"><img src=\"https://colab.research.google.com/assets/colab-badge.svg\" alt=\"Open In Colab\"/></a>"
      ]
    },
    {
      "cell_type": "code",
      "metadata": {
        "colab": {
          "base_uri": "https://localhost:8080/"
        },
        "id": "vk9qxNMXrgZB",
        "outputId": "fc79650a-5f63-4e37-9d61-5445bea6f13b"
      },
      "source": [
        "import numpy as np\n",
        "import math\n",
        "import matplotlib.pyplot as plt\n",
        "\n",
        "##figuras de merito\n",
        "pi_d_max = 0.98#razon de compresion del difusor maxima\n",
        "pi_b =0.95 #razon de compresion del quemador - 0.95\n",
        "pi_n =0.98 #razon de compresion de la tobera\n",
        "eta_m =0.99 #rendimiento del turbocompresor $SHAFT ONLY%\n",
        "pi_fn = 0.98 #razon de presiones nozzle fan\n",
        "e_c = 0.91#eficiencia del compresor --->0.91\n",
        "e_t = 0.93 #eficiente de la turbina  %%%NO REFRIGERADA%%%   --> 0.93\n",
        "e_f = 0.93 #eficiencia del fan #0.93 se puede\n",
        "eta_b = 0.99#rendimiento del quemador\n",
        "Tt4 = 1454\n",
        "alpha = 1.5  # razon de bypass\n",
        "def calculo_turbofan(alpha,pi_d_max,pi_b,pi_n,eta_m,pi_fn,e_c,e_t,e_f,eta_b,Tt4):\n",
        "    M_0 = 0.81  #Mach en el infinito\n",
        "    T_0 = 15+273.15 #Temperatura en el infinito\n",
        "    gamma_c = 1.4 #exponente politropico del aire en el compresor\n",
        "    c_pc = 1006.2  #calor especifico antes del burner\n",
        "    gamma_t =1.3 #exponente politropico del aire en la turbina\n",
        "    c_pt = 1250 #calor especifico del aire despues del quemador\n",
        "    h_pr = 41400000 #poder calorifico inferior\n",
        "    pi_c = 13 #razon de compresion del compresor\n",
        "    pi_f = 3 #razon de presiones fan\n",
        "\n",
        "\n",
        "\n",
        "    P0__9 =1   #razon de presiones en la salida\n",
        "    P0__19=1 #razon de presiones canales\n",
        "    #maxima temperatura de operacion de la turbina\n",
        "    g_c = 1 #aceleracion de gravedad\n",
        "    #ecuaciones\n",
        "    R_c=(gamma_c-1)*c_pc/gamma_c\n",
        "    R_t = (gamma_t-1)*c_pt/gamma_t\n",
        "    a_0=math.sqrt(gamma_c*R_c*T_0)\n",
        "    V_0 = a_0 * M_0\n",
        "    tau_r = 1 + ((gamma_c -1)*M_0**2)/2\n",
        "    pi_r = tau_r**(gamma_c/(gamma_c-1))\n",
        "    if M_0 <= 1:\n",
        "        eta_r = 1\n",
        "    elif M_0 > 1:\n",
        "        eta_r = 1-0.075*(M_0-1)**1.35;\n",
        "    pi_d = pi_d_max*eta_r\n",
        "    tau_lambda = (c_pt*Tt4)/(c_pc*T_0)\n",
        "    tau_c = pi_c**((gamma_c-1)/(gamma_c*e_c))\n",
        "    eta_c = (pi_c**((gamma_c-1)/gamma_c) - 1)/(tau_c -1)\n",
        "    tau_f = pi_f**((gamma_c-1)/(gamma_c*e_f))\n",
        "    eta_f = (pi_f**((gamma_c-1)/gamma_c) - 1)/(tau_f -1)\n",
        "    f = (tau_lambda-tau_r*tau_c)/((h_pr*eta_b)/(c_pc*T_0)-tau_lambda)\n",
        "    tau_t = 1 - (1/(eta_m*(1+f)))*(tau_r/tau_lambda)*(tau_c-1+alpha*(tau_f-1))\n",
        "    pi_t = tau_t**(gamma_t/((gamma_t-1)*e_t))\n",
        "    eta_t = (1-tau_t)/(1-tau_t**(1/e_t))\n",
        "    Pt9__9 = P0__9 * pi_r*pi_d*pi_c*pi_b*pi_t*pi_n\n",
        "    # print('Pt9__9 ={0:0.4f}'.format(Pt9__9))\n",
        "    M_9 = math.sqrt((2/(gamma_t-1))*((Pt9__9**((gamma_t-1)/gamma_t))-1))\n",
        "    # print('M_9 ={0:0.4f}'.format(M_9))\n",
        "    T9__0 = tau_lambda * tau_t/(Pt9__9**((gamma_t-1)/gamma_t)) *c_pc/c_pt\n",
        "    V9__a0 =  M_9*math.sqrt((gamma_t * R_t/(gamma_c*R_c))*T9__0)\n",
        "    Pt19__19 = P0__19 * pi_r*pi_d*pi_f*pi_fn\n",
        "    M_19 = math.sqrt((2/(gamma_c-1))*((Pt19__19**((gamma_c-1)/gamma_c))-1))\n",
        "    T19__0 = tau_r* tau_f/(Pt19__19**((gamma_c-1)/gamma_c))\n",
        "    V19__a0 =  M_19*math.sqrt(T19__0)\n",
        "    # print('V19_a0 ={0:0.4f}'.format(V19__a0))\n",
        "    F__mdot_0 = (1/(1+alpha))*(a_0/g_c)*((1+f)*V9__a0 - M_0 + (1+f)*((R_t*T9__0*(1-P0__9))/(R_c*V9__a0*gamma_c))) + (alpha/(1+alpha))*(a_0/g_c)*(V19__a0 - M_0 + ((T19__0*(1-P0__19))/(V19__a0*gamma_c)))\n",
        "    S=f/((1+alpha)*F__mdot_0)\n",
        "    FR = ((1+f)*V9__a0 - M_0 + (1+f)*((R_t*T9__0*(1-P0__9))/(R_c*V9__a0*gamma_c)) )/(V19__a0 - M_0 + ((T19__0*(1-P0__19))/(V19__a0*gamma_c)))\n",
        "    eta_P= (2*M_0*((1+f)*V9__a0+alpha*V19__a0-(1+alpha)*M_0))/((1+f)*V9__a0**2 + alpha*V19__a0**2 - (1+alpha)*M_0**2)\n",
        "    eta_T = (a_0**2*((1+f)*V9__a0**2 + alpha*V19__a0**2 - (1+alpha)*M_0**2))/(2*g_c*f*h_pr)\n",
        "    eta_0 = eta_P *eta_T\n",
        "    print('tau_t :{0:0.3f} '.format(tau_t))\n",
        "    print('eta_T :{0:0.3f} '.format(eta_T))\n",
        "    print('eta_P :{0:0.3f} '.format(eta_P))\n",
        "    print('eta_0 :{0:0.3f} '.format(eta_0))\n",
        "    print('FR :{0:0.3f} '.format(FR))\n",
        "    print('S :{0:0.9f} '.format(S))\n",
        "    print('F__mdot_0 :{0:0.2f} '.format(F__mdot_0))\n",
        "    return eta_P, eta_T, eta_0, F__mdot_0, FR, S\n",
        "\n",
        "\n",
        "eta_Pt = []\n",
        "eta_Tt = []\n",
        "eta_0t = []\n",
        "F__mdot_0t = []\n",
        "FRt = []\n",
        "St = []\n",
        "\n",
        "# for alpha2 in alpha:\n",
        "eta_P, eta_T, eta_0, F__mdot_0, FR, S = calculo_turbofan(alpha,pi_d_max,pi_b,pi_n,eta_m,pi_fn,e_c,e_t,e_f,eta_b,Tt4)\n",
        "#     eta_Pt.append(eta_P)\n",
        "#     eta_Tt.append(eta_T)\n",
        "#     eta_0t.append(eta_0)\n",
        "#     F__mdot_0t.append(F__mdot_0)\n",
        "#     FRt.append(FR)\n",
        "#     St.append(S)\n",
        "\n",
        "\n",
        "# plt.plot(alpha, F__mdot_0t)\n",
        "# plt.show()\n",
        "# g=eta_0t.index(max(eta_0t))\n",
        "# a=Tt4[g]\n",
        "# print('Temperatura optima: {0:0.2f}'.format(a))\n",
        "\n",
        "# parametros para optimizar Tt4 = 2050  alpha = np.linspace(1.4, 10.5, 50)\n",
        "# pi_c = 20 #razon de compresion del compresor\n",
        "#     pi_f = 1.70 #razon de presiones fan"
      ],
      "execution_count": 1,
      "outputs": [
        {
          "output_type": "stream",
          "text": [
            "tau_t :0.674 \n",
            "eta_T :0.365 \n",
            "eta_P :0.599 \n",
            "eta_0 :0.219 \n",
            "FR :1.644 \n",
            "S :0.000030481 \n",
            "F__mdot_0 :363.07 \n"
          ],
          "name": "stdout"
        }
      ]
    }
  ]
}